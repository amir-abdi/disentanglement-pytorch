{
 "cells": [
  {
   "cell_type": "code",
   "execution_count": 1,
   "metadata": {},
   "outputs": [],
   "source": [
    "import torch\n",
    "import numpy as np"
   ]
  },
  {
   "cell_type": "code",
   "execution_count": 6,
   "metadata": {},
   "outputs": [
    {
     "data": {
      "text/plain": [
       "tensor([0.0951, 0.5755, 0.9443, 0.3994, 0.6150, 0.2281, 0.7349, 0.9077, 0.5992,\n",
       "        0.6392])"
      ]
     },
     "execution_count": 6,
     "metadata": {},
     "output_type": "execute_result"
    }
   ],
   "source": [
    "torch.rand(10)"
   ]
  },
  {
   "cell_type": "code",
   "execution_count": 5,
   "metadata": {},
   "outputs": [],
   "source": [
    "m = torch.nn.Softmax(dim=1)\n",
    "input = torch.randn(2, 3)\n",
    "output = m(input)\n"
   ]
  },
  {
   "cell_type": "code",
   "execution_count": 4,
   "metadata": {},
   "outputs": [
    {
     "data": {
      "text/plain": [
       "tensor([[0.2160, 0.4536, 0.3303],\n",
       "        [0.4582, 0.2023, 0.3395]])"
      ]
     },
     "execution_count": 4,
     "metadata": {},
     "output_type": "execute_result"
    }
   ],
   "source": [
    "output"
   ]
  },
  {
   "cell_type": "code",
   "execution_count": 5,
   "metadata": {},
   "outputs": [
    {
     "data": {
      "text/plain": [
       "tensor([[ 0.6459,  1.3876,  1.0705],\n",
       "        [ 0.3537, -0.4641,  0.0537]])"
      ]
     },
     "execution_count": 5,
     "metadata": {},
     "output_type": "execute_result"
    }
   ],
   "source": [
    "input"
   ]
  },
  {
   "cell_type": "code",
   "execution_count": 2,
   "metadata": {},
   "outputs": [],
   "source": [
    "loss = torch.nn.BCELoss(reduction='mean')"
   ]
  },
  {
   "cell_type": "code",
   "execution_count": 12,
   "metadata": {},
   "outputs": [],
   "source": [
    "x = torch.rand(size=(10,3) )\n",
    "y = torch.rand(size=(10,3))"
   ]
  },
  {
   "cell_type": "code",
   "execution_count": 16,
   "metadata": {},
   "outputs": [
    {
     "name": "stdout",
     "output_type": "stream",
     "text": [
      "tensor(0.9372)\n",
      "tensor(1.2814)\n",
      "tensor(0.8669)\n",
      "tensor(0.6633)\n"
     ]
    },
    {
     "data": {
      "text/plain": [
       "tensor(0.9372)"
      ]
     },
     "execution_count": 16,
     "metadata": {},
     "output_type": "execute_result"
    }
   ],
   "source": [
    "print(loss(x,y))\n",
    "\n",
    "l = 0\n",
    "for i in range(3):\n",
    "    prev = loss(x[:,i], y[:,i])\n",
    "    print(prev)\n",
    "    l += prev/3\n",
    "    \n",
    "l"
   ]
  },
  {
   "cell_type": "code",
   "execution_count": 18,
   "metadata": {},
   "outputs": [
    {
     "data": {
      "text/plain": [
       "tensor([[0.5026, 0.5630, 0.5479, 0.6246, 0.7307],\n",
       "        [0.6678, 0.5823, 0.6452, 0.6877, 0.5414],\n",
       "        [0.6222, 0.6543, 0.6982, 0.5648, 0.6570],\n",
       "        [0.6215, 0.6958, 0.6939, 0.6531, 0.6072],\n",
       "        [0.6554, 0.6808, 0.6874, 0.6534, 0.6405],\n",
       "        [0.6139, 0.6622, 0.6285, 0.7252, 0.5282],\n",
       "        [0.5588, 0.5836, 0.5466, 0.6389, 0.6521],\n",
       "        [0.5894, 0.6339, 0.5705, 0.6177, 0.7097],\n",
       "        [0.6496, 0.5977, 0.6661, 0.5161, 0.7184],\n",
       "        [0.7090, 0.6626, 0.7261, 0.7120, 0.5878]])"
      ]
     },
     "execution_count": 18,
     "metadata": {},
     "output_type": "execute_result"
    }
   ],
   "source": [
    "h = torch.rand(size=(10,5))\n",
    "torch.sigmoid(h )"
   ]
  },
  {
   "cell_type": "code",
   "execution_count": null,
   "metadata": {},
   "outputs": [],
   "source": []
  },
  {
   "cell_type": "code",
   "execution_count": null,
   "metadata": {},
   "outputs": [],
   "source": []
  }
 ],
 "metadata": {
  "kernelspec": {
   "display_name": "Python 3",
   "language": "python",
   "name": "python3"
  },
  "language_info": {
   "codemirror_mode": {
    "name": "ipython",
    "version": 3
   },
   "file_extension": ".py",
   "mimetype": "text/x-python",
   "name": "python",
   "nbconvert_exporter": "python",
   "pygments_lexer": "ipython3",
   "version": "3.7.6"
  }
 },
 "nbformat": 4,
 "nbformat_minor": 4
}
