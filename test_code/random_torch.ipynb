{
 "cells": [
  {
   "cell_type": "code",
   "execution_count": 1,
   "metadata": {},
   "outputs": [],
   "source": [
    "import torch"
   ]
  },
  {
   "cell_type": "code",
   "execution_count": 11,
   "metadata": {},
   "outputs": [
    {
     "data": {
      "text/plain": [
       "tensor([False, False, False, False, False, False, False, False, False, False,\n",
       "        False, False, False, False, False, False, False, False, False, False,\n",
       "        False, False, False, False, False, False, False, False, False, False,\n",
       "        False, False, False, False, False, False, False, False, False, False,\n",
       "        False, False,  True, False, False, False, False, False, False, False,\n",
       "        False, False, False, False, False, False, False, False, False, False,\n",
       "        False, False, False, False, False, False, False, False, False, False,\n",
       "        False, False, False, False, False, False, False, False, False, False,\n",
       "        False, False, False, False, False, False, False, False, False, False,\n",
       "        False, False, False, False, False, False, False, False, False, False])"
      ]
     },
     "execution_count": 11,
     "metadata": {},
     "output_type": "execute_result"
    }
   ],
   "source": [
    "(torch.rand(size=(100,)) < 1/ 100)"
   ]
  },
  {
   "cell_type": "code",
   "execution_count": 8,
   "metadata": {},
   "outputs": [
    {
     "data": {
      "text/plain": [
       "tensor([0.7380, 0.1242, 0.0796, 0.0213, 0.2184, 0.0737, 0.4754, 0.8318, 0.5794,\n",
       "        0.5983, 0.9952, 0.6300, 0.6068, 0.3339, 0.6029, 0.1840, 0.6308, 0.2069,\n",
       "        0.0841, 0.7965, 0.7754, 0.8406, 0.6321, 0.3408, 0.7081, 0.0300, 0.2187,\n",
       "        0.3285, 0.4313, 0.8034, 0.1894, 0.2940, 0.8909, 0.1840, 0.3972, 0.0364,\n",
       "        0.7021, 0.9847, 0.9668, 0.3151, 0.4274, 0.0713, 0.1991, 0.8874, 0.7367,\n",
       "        0.6827, 0.1265, 0.3018, 0.5145, 0.0114, 0.6217, 0.3376, 0.7047, 0.5816,\n",
       "        0.7618, 0.0344, 0.7604, 0.6877, 0.8112, 0.7684, 0.9084, 0.2109, 0.6732,\n",
       "        0.5410, 0.8885, 0.1318, 0.8375, 0.7502, 0.0460, 0.0313, 0.1175, 0.1401,\n",
       "        0.7526, 0.5419, 0.2654, 0.8911, 0.0583, 0.3883, 0.5321, 0.6951, 0.3668,\n",
       "        0.2264, 0.9818, 0.6318, 0.8702, 0.8334, 0.3084, 0.1779, 0.5945, 0.2170,\n",
       "        0.0275, 0.3411, 0.4339, 0.8920, 0.8566, 0.2562, 0.4438, 0.3674, 0.3048,\n",
       "        0.4259])"
      ]
     },
     "execution_count": 8,
     "metadata": {},
     "output_type": "execute_result"
    }
   ],
   "source": [
    "torch.rand(size=(100,), )"
   ]
  },
  {
   "cell_type": "code",
   "execution_count": null,
   "metadata": {},
   "outputs": [],
   "source": []
  }
 ],
 "metadata": {
  "kernelspec": {
   "display_name": "Python 3",
   "language": "python",
   "name": "python3"
  },
  "language_info": {
   "codemirror_mode": {
    "name": "ipython",
    "version": 3
   },
   "file_extension": ".py",
   "mimetype": "text/x-python",
   "name": "python",
   "nbconvert_exporter": "python",
   "pygments_lexer": "ipython3",
   "version": "3.7.6"
  }
 },
 "nbformat": 4,
 "nbformat_minor": 4
}
