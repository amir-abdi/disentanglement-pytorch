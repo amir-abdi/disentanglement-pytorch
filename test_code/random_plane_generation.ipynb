{
 "cells": [
  {
   "cell_type": "code",
   "execution_count": 42,
   "metadata": {},
   "outputs": [],
   "source": [
    "import numpy as np\n",
    "np.random.seed(21)"
   ]
  },
  {
   "cell_type": "code",
   "execution_count": 43,
   "metadata": {},
   "outputs": [],
   "source": [
    "## \n",
    "def random_plane(labels, space):\n",
    "    l = len(labels)\n",
    "    \n",
    "    random_versor = np.random.uniform(size=l)\n",
    "    random_versor /= np.linalg.norm(random_versor)\n",
    "\n",
    "    mean_vect = np.zeros(5)\n",
    "\n",
    "    for i in range(l):\n",
    "        mean_vect[i] = (np.max(space[i]) - np.min(space[i]))/2\n",
    "\n",
    "    print(\"Random\", random_versor)\n",
    "    print(\"Mean\", mean_vect)\n",
    "    return random_versor, mean_vect"
   ]
  },
  {
   "cell_type": "code",
   "execution_count": 5,
   "metadata": {},
   "outputs": [],
   "source": [
    "labels = [1,2,3,4,5]\n",
    "space = []\n",
    "space.append([1,2,3])\n",
    "space.append([1,2,3,4,5,6])\n",
    "for i in range(3):\n",
    "    space.append(np.linspace(0,1,10))"
   ]
  },
  {
   "cell_type": "code",
   "execution_count": 6,
   "metadata": {},
   "outputs": [
    {
     "name": "stdout",
     "output_type": "stream",
     "text": [
      "Random [0.06049992 0.358977   0.89519781 0.02684011 0.25568684]\n",
      "Mean [1.  2.5 0.5 0.5 0.5]\n"
     ]
    }
   ],
   "source": [
    "r = random_plane(labels, space)"
   ]
  },
  {
   "cell_type": "code",
   "execution_count": 7,
   "metadata": {},
   "outputs": [],
   "source": [
    "def target_cast (inputs, r_plane):\n",
    "    targets = []\n",
    "    for i in range(len(inputs)):\n",
    "        target =  np.sign(np.dot(inputs[i] - r_plane[1], r_plane[0]))\n",
    "        if target < 0: target = 0\n",
    "        targets.append(int(target))\n",
    "    return targets "
   ]
  },
  {
   "cell_type": "code",
   "execution_count": 8,
   "metadata": {},
   "outputs": [
    {
     "name": "stdout",
     "output_type": "stream",
     "text": [
      "(30, 5)\n"
     ]
    }
   ],
   "source": [
    "inputs = []\n",
    "inputs.append([1,2,3]*10)\n",
    "inputs.append([1,2,3,4,5,6]*5)\n",
    "for i in range(3):\n",
    "    inputs.append(np.linspace(0,1,30))\n",
    "\n",
    "inputs = np.asarray(inputs).T\n",
    "print(np.shape(inputs))\n",
    "\n",
    "#target_cast(inputs ,r)"
   ]
  },
  {
   "cell_type": "code",
   "execution_count": 44,
   "metadata": {},
   "outputs": [],
   "source": [
    "def target_cast(inputs, r_plane, irrelevant_components=0):\n",
    "    targets = []\n",
    "    #print(inputs[0])\n",
    "    #print(len(r_plane))\n",
    "\n",
    "    admitted = np.ones(len(r_plane[0]))\n",
    "    admitted[irrelevant_components] = 0\n",
    "    for i in range(len(inputs)):\n",
    "        \n",
    "        target =  (np.dot(inputs[i] - r_plane[1]*admitted, r_plane[0]*admitted))\n",
    "\n",
    "        if target < 0: target = 0\n",
    "        else: target = 1\n",
    "        targets.append(int(target))\n",
    "    return np.array(targets, dtype = np.int)\n",
    "\n",
    "def random_plane(labels, space, irrelevant_components=0,_plot=False):\n",
    "    print(len(labels))\n",
    "    l = len(labels)\n",
    "\n",
    "    random_versor = np.random.uniform(size=l)\n",
    "    random_versor /= np.linalg.norm(random_versor)\n",
    "\n",
    "    mean_vect = np.zeros(l)\n",
    "\n",
    "    for i in range(l):\n",
    "        mean_vect[i] = np.mean(space[:,i])\n",
    "        \n",
    "    print(\"Random\", random_versor)\n",
    "    print(\"Mean\", mean_vect)\n",
    "\n",
    "    \n",
    "    if _plot:\n",
    "        f = plt.figure(figsize=(18, 10))  # plot the calculated values\n",
    "        for i in range(l):\n",
    "            f.add_subplot(2, 3, i+1)\n",
    "            z = space[:,i]\n",
    "            plt.hist(z, int(len(z)/100), label='component-%i'%i)\n",
    "            plt.legend()\n",
    "        plt.show()\n",
    "\n",
    "    return [random_versor, mean_vect]"
   ]
  },
  {
   "cell_type": "code",
   "execution_count": 45,
   "metadata": {},
   "outputs": [],
   "source": [
    "import numpy as np\n",
    "import matplotlib.pyplot as plt\n",
    "\n",
    "N = 10**5\n",
    "label_idx = [0,1,2,3,4,5]\n",
    "\n",
    "input = np.zeros((N,6))\n",
    "input[:,0] = np.random.uniform(0,10,N)\n",
    "input[:,1:] = np.random.normal(1, 2, size=(N,5))"
   ]
  },
  {
   "cell_type": "code",
   "execution_count": 46,
   "metadata": {},
   "outputs": [
    {
     "name": "stdout",
     "output_type": "stream",
     "text": [
      "6\n",
      "Random [0.12799566 0.63937217 0.68556487 0.31038409 0.08828428 0.02624414]\n",
      "Mean [5.00574328 1.00526396 0.99392551 0.98756058 1.00321675 0.99268155]\n"
     ]
    }
   ],
   "source": [
    "y = target_cast(input, r_plane=random_plane(label_idx, input))"
   ]
  },
  {
   "cell_type": "code",
   "execution_count": 36,
   "metadata": {},
   "outputs": [
    {
     "data": {
      "text/plain": [
       "0.49967"
      ]
     },
     "execution_count": 36,
     "metadata": {},
     "output_type": "execute_result"
    }
   ],
   "source": [
    "len(y[y==0])/len(y)\n"
   ]
  },
  {
   "cell_type": "code",
   "execution_count": 37,
   "metadata": {},
   "outputs": [],
   "source": [
    "import torch\n",
    "from sklearn.linear_model import LogisticRegression"
   ]
  },
  {
   "cell_type": "code",
   "execution_count": 38,
   "metadata": {},
   "outputs": [
    {
     "name": "stdout",
     "output_type": "stream",
     "text": [
      "6\n",
      "Random [0.56867597 0.46563253 0.20038107 0.33545856 0.28420697 0.47574716]\n",
      "Mean [5.00165462 1.00433513 0.99153517 0.99444646 1.00565136 1.00415663]\n"
     ]
    },
    {
     "name": "stderr",
     "output_type": "stream",
     "text": [
      "/home/emanuele/anaconda3/lib/python3.7/site-packages/sklearn/linear_model/logistic.py:433: FutureWarning: Default solver will be changed to 'lbfgs' in 0.22. Specify a solver to silence this warning.\n",
      "  FutureWarning)\n"
     ]
    },
    {
     "data": {
      "text/plain": [
       "tensor(0.32)"
      ]
     },
     "execution_count": 38,
     "metadata": {},
     "output_type": "execute_result"
    }
   ],
   "source": [
    "in_data = input\n",
    "y = target_cast(input, r_plane=random_plane(label_idx, input))\n",
    "lr = LogisticRegression()\n",
    "lr.fit(in_data, y)\n",
    "y_pred1 = lr.predict_proba(in_data)            \n",
    "y_pred1 = torch.tensor(y_pred1, dtype=torch.float)\n",
    "y = torch.tensor(y, dtype=torch.long)\n",
    "#y = torch.randint(low=0, high=1, size=(N,) )\n",
    "\n",
    "torch.nn.CrossEntropyLoss(reduction='mean')(y_pred1, y)"
   ]
  },
  {
   "cell_type": "code",
   "execution_count": 39,
   "metadata": {},
   "outputs": [
    {
     "data": {
      "text/plain": [
       "tensor([[    0.00,     1.00],\n",
       "        [    1.00,     0.00],\n",
       "        [    0.00,     1.00],\n",
       "        ...,\n",
       "        [    0.97,     0.03],\n",
       "        [    0.00,     1.00],\n",
       "        [    0.00,     1.00]])"
      ]
     },
     "execution_count": 39,
     "metadata": {},
     "output_type": "execute_result"
    }
   ],
   "source": [
    "torch.set_printoptions(precision=2, sci_mode=False)\n",
    "y_pred1.to(dtype=torch.float)"
   ]
  },
  {
   "cell_type": "code",
   "execution_count": 40,
   "metadata": {},
   "outputs": [
    {
     "data": {
      "text/plain": [
       "80"
      ]
     },
     "execution_count": 40,
     "metadata": {},
     "output_type": "execute_result"
    }
   ],
   "source": [
    "forward = torch.argmax(y_pred1, dim=1 ) \n",
    "len(forward[torch.abs(y-forward) == 1])"
   ]
  },
  {
   "cell_type": "code",
   "execution_count": 47,
   "metadata": {},
   "outputs": [],
   "source": [
    "import torch"
   ]
  },
  {
   "cell_type": "code",
   "execution_count": 48,
   "metadata": {},
   "outputs": [
    {
     "ename": "AttributeError",
     "evalue": "'Linear' object has no attribute 'params'",
     "output_type": "error",
     "traceback": [
      "\u001b[0;31m---------------------------------------------------------------------------\u001b[0m",
      "\u001b[0;31mAttributeError\u001b[0m                            Traceback (most recent call last)",
      "\u001b[0;32m<ipython-input-48-5d2e8b9680b7>\u001b[0m in \u001b[0;36m<module>\u001b[0;34m\u001b[0m\n\u001b[1;32m      1\u001b[0m \u001b[0mclassification\u001b[0m \u001b[0;34m=\u001b[0m \u001b[0mtorch\u001b[0m\u001b[0;34m.\u001b[0m\u001b[0mnn\u001b[0m\u001b[0;34m.\u001b[0m\u001b[0mLinear\u001b[0m\u001b[0;34m(\u001b[0m\u001b[0;36m10\u001b[0m\u001b[0;34m,\u001b[0m \u001b[0;36m2\u001b[0m\u001b[0;34m)\u001b[0m\u001b[0;34m\u001b[0m\u001b[0;34m\u001b[0m\u001b[0m\n\u001b[0;32m----> 2\u001b[0;31m \u001b[0moptim\u001b[0m \u001b[0;34m=\u001b[0m \u001b[0mtorch\u001b[0m\u001b[0;34m.\u001b[0m\u001b[0moptim\u001b[0m\u001b[0;34m.\u001b[0m\u001b[0mSGD\u001b[0m\u001b[0;34m(\u001b[0m\u001b[0mclassification\u001b[0m\u001b[0;34m.\u001b[0m\u001b[0mparams\u001b[0m\u001b[0;34m(\u001b[0m\u001b[0;34m)\u001b[0m\u001b[0;34m,\u001b[0m \u001b[0mlr\u001b[0m \u001b[0;34m=\u001b[0m \u001b[0;36m0.01\u001b[0m\u001b[0;34m,\u001b[0m \u001b[0mmomentum\u001b[0m\u001b[0;34m=\u001b[0m\u001b[0;36m0.9\u001b[0m\u001b[0;34m)\u001b[0m\u001b[0;34m\u001b[0m\u001b[0;34m\u001b[0m\u001b[0m\n\u001b[0m\u001b[1;32m      3\u001b[0m \u001b[0;34m\u001b[0m\u001b[0m\n\u001b[1;32m      4\u001b[0m \u001b[0mloss\u001b[0m \u001b[0;34m=\u001b[0m \u001b[0mtorch\u001b[0m\u001b[0;34m.\u001b[0m\u001b[0mnn\u001b[0m\u001b[0;34m.\u001b[0m\u001b[0mCrossEntropyLoss\u001b[0m\u001b[0;34m(\u001b[0m\u001b[0mreduction\u001b[0m\u001b[0;34m=\u001b[0m\u001b[0;34m\"sum\"\u001b[0m\u001b[0;34m)\u001b[0m\u001b[0;34m\u001b[0m\u001b[0;34m\u001b[0m\u001b[0m\n\u001b[1;32m      5\u001b[0m \u001b[0;34m\u001b[0m\u001b[0m\n",
      "\u001b[0;32m~/anaconda3/lib/python3.7/site-packages/torch/nn/modules/module.py\u001b[0m in \u001b[0;36m__getattr__\u001b[0;34m(self, name)\u001b[0m\n\u001b[1;32m   1176\u001b[0m                 \u001b[0;32mreturn\u001b[0m \u001b[0mmodules\u001b[0m\u001b[0;34m[\u001b[0m\u001b[0mname\u001b[0m\u001b[0;34m]\u001b[0m\u001b[0;34m\u001b[0m\u001b[0;34m\u001b[0m\u001b[0m\n\u001b[1;32m   1177\u001b[0m         raise AttributeError(\"'{}' object has no attribute '{}'\".format(\n\u001b[0;32m-> 1178\u001b[0;31m             type(self).__name__, name))\n\u001b[0m\u001b[1;32m   1179\u001b[0m \u001b[0;34m\u001b[0m\u001b[0m\n\u001b[1;32m   1180\u001b[0m     \u001b[0;32mdef\u001b[0m \u001b[0m__setattr__\u001b[0m\u001b[0;34m(\u001b[0m\u001b[0mself\u001b[0m\u001b[0;34m,\u001b[0m \u001b[0mname\u001b[0m\u001b[0;34m:\u001b[0m \u001b[0mstr\u001b[0m\u001b[0;34m,\u001b[0m \u001b[0mvalue\u001b[0m\u001b[0;34m:\u001b[0m \u001b[0mUnion\u001b[0m\u001b[0;34m[\u001b[0m\u001b[0mTensor\u001b[0m\u001b[0;34m,\u001b[0m \u001b[0;34m'Module'\u001b[0m\u001b[0;34m]\u001b[0m\u001b[0;34m)\u001b[0m \u001b[0;34m->\u001b[0m \u001b[0;32mNone\u001b[0m\u001b[0;34m:\u001b[0m\u001b[0;34m\u001b[0m\u001b[0;34m\u001b[0m\u001b[0m\n",
      "\u001b[0;31mAttributeError\u001b[0m: 'Linear' object has no attribute 'params'"
     ]
    }
   ],
   "source": [
    "\n",
    "classification = torch.nn.Linear(10, 2)\n",
    "optim = torch.optim.SGD(classification.params(), lr = 0.01, momentum=0.9)\n",
    "\n",
    "loss = torch.nn.CrossEntropyLoss(reduction=\"sum\")\n",
    "\n",
    "\n"
   ]
  },
  {
   "cell_type": "code",
   "execution_count": null,
   "metadata": {},
   "outputs": [],
   "source": []
  }
 ],
 "metadata": {
  "kernelspec": {
   "display_name": "Python 3",
   "language": "python",
   "name": "python3"
  },
  "language_info": {
   "codemirror_mode": {
    "name": "ipython",
    "version": 3
   },
   "file_extension": ".py",
   "mimetype": "text/x-python",
   "name": "python",
   "nbconvert_exporter": "python",
   "pygments_lexer": "ipython3",
   "version": "3.7.6"
  }
 },
 "nbformat": 4,
 "nbformat_minor": 4
}
