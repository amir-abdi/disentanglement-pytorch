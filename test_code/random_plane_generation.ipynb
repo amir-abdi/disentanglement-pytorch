{
 "cells": [
  {
   "cell_type": "code",
   "execution_count": 1,
   "metadata": {},
   "outputs": [],
   "source": [
    "import numpy as np\n",
    "np.random.seed(420)"
   ]
  },
  {
   "cell_type": "code",
   "execution_count": 2,
   "metadata": {},
   "outputs": [],
   "source": [
    "## \n",
    "def random_plane(labels, space):\n",
    "    l = len(labels)\n",
    "    \n",
    "    random_versor = np.random.uniform(size=l)\n",
    "    random_versor /= np.linalg.norm(random_versor)\n",
    "\n",
    "    mean_vect = np.zeros(5)\n",
    "\n",
    "    for i in range(l):\n",
    "        mean_vect[i] = (np.max(space[i]) - np.min(space[i]))/2\n",
    "\n",
    "    print(\"Random\", random_versor)\n",
    "    print(\"Mean\", mean_vect)\n",
    "    return random_versor, mean_vect"
   ]
  },
  {
   "cell_type": "code",
   "execution_count": 3,
   "metadata": {},
   "outputs": [],
   "source": [
    "labels = [1,2,3,4,5]\n",
    "space = []\n",
    "space.append([1,2,3])\n",
    "space.append([1,2,3,4,5,6])\n",
    "for i in range(3):\n",
    "    space.append(np.linspace(0,1,10))"
   ]
  },
  {
   "cell_type": "code",
   "execution_count": 4,
   "metadata": {},
   "outputs": [
    {
     "name": "stdout",
     "output_type": "stream",
     "text": [
      "Random [0.29540581 0.42398107 0.24986261 0.1019434  0.81249719]\n",
      "Mean [1.  2.5 0.5 0.5 0.5]\n"
     ]
    }
   ],
   "source": [
    "r = random_plane(labels, space)"
   ]
  },
  {
   "cell_type": "code",
   "execution_count": 17,
   "metadata": {},
   "outputs": [],
   "source": [
    "def target_cast (inputs, r_plane):\n",
    "    targets = []\n",
    "    for i in range(len(inputs)):\n",
    "        target =  np.sign(np.dot(inputs[i] - r_plane[1], r_plane[0]))\n",
    "        if target < 0: target = 0\n",
    "        targets.append(int(target))\n",
    "    return targets "
   ]
  },
  {
   "cell_type": "code",
   "execution_count": 18,
   "metadata": {},
   "outputs": [
    {
     "name": "stdout",
     "output_type": "stream",
     "text": [
      "(30, 5)\n"
     ]
    },
    {
     "data": {
      "text/plain": [
       "[0,\n",
       " 0,\n",
       " 1,\n",
       " 1,\n",
       " 1,\n",
       " 1,\n",
       " 0,\n",
       " 0,\n",
       " 1,\n",
       " 1,\n",
       " 1,\n",
       " 1,\n",
       " 0,\n",
       " 1,\n",
       " 1,\n",
       " 1,\n",
       " 1,\n",
       " 1,\n",
       " 0,\n",
       " 1,\n",
       " 1,\n",
       " 1,\n",
       " 1,\n",
       " 1,\n",
       " 0,\n",
       " 1,\n",
       " 1,\n",
       " 1,\n",
       " 1,\n",
       " 1]"
      ]
     },
     "execution_count": 18,
     "metadata": {},
     "output_type": "execute_result"
    }
   ],
   "source": [
    "inputs = []\n",
    "inputs.append([1,2,3]*10)\n",
    "inputs.append([1,2,3,4,5,6]*5)\n",
    "for i in range(3):\n",
    "    inputs.append(np.linspace(0,1,30))\n",
    "\n",
    "inputs = np.asarray(inputs).T\n",
    "print(np.shape(inputs))\n",
    "\n",
    "target_cast(inputs ,r)"
   ]
  },
  {
   "cell_type": "code",
   "execution_count": null,
   "metadata": {},
   "outputs": [],
   "source": []
  }
 ],
 "metadata": {
  "kernelspec": {
   "display_name": "Python 3",
   "language": "python",
   "name": "python3"
  },
  "language_info": {
   "codemirror_mode": {
    "name": "ipython",
    "version": 3
   },
   "file_extension": ".py",
   "mimetype": "text/x-python",
   "name": "python",
   "nbconvert_exporter": "python",
   "pygments_lexer": "ipython3",
   "version": "3.7.6"
  }
 },
 "nbformat": 4,
 "nbformat_minor": 4
}
