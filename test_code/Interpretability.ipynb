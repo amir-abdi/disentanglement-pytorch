{
 "cells": [
  {
   "cell_type": "code",
   "execution_count": 101,
   "metadata": {},
   "outputs": [],
   "source": [
    "import numpy as np\n",
    "from sklearn.linear_model import LinearRegression, MultiTaskLasso, HuberRegressor\n",
    "import matplotlib.pyplot as plt"
   ]
  },
  {
   "cell_type": "code",
   "execution_count": 4,
   "metadata": {},
   "outputs": [
    {
     "data": {
      "text/plain": [
       "(100, 3)"
      ]
     },
     "execution_count": 4,
     "metadata": {},
     "output_type": "execute_result"
    }
   ],
   "source": [
    "l = 100\n",
    "inputs = np.random.normal(loc=0, scale=2, size=(100,4))\n",
    "weight = np.array([[1,0,1], [1,-1,0], [0,0,1], [1,0,0] ])\n",
    "bias = np.array([-1,1,1])\n",
    "\n",
    "gens = np.matmul(inputs,weight) + bias\n",
    "np.shape(gens)"
   ]
  },
  {
   "cell_type": "code",
   "execution_count": 106,
   "metadata": {},
   "outputs": [],
   "source": [
    "model = HuberRegressor(alpha=0.0001)\n",
    "coeff = []\n",
    "for i in range(len(gens[0])):\n",
    "    model.fit(inputs, gens[:,i])\n",
    "    coeff.append( model.coef_ )"
   ]
  },
  {
   "cell_type": "code",
   "execution_count": 109,
   "metadata": {},
   "outputs": [],
   "source": [
    "W = np.asarray(coeff)"
   ]
  },
  {
   "cell_type": "code",
   "execution_count": 10,
   "metadata": {},
   "outputs": [
    {
     "data": {
      "text/plain": [
       "0.9162887490822329"
      ]
     },
     "execution_count": 10,
     "metadata": {},
     "output_type": "execute_result"
    }
   ],
   "source": [
    "model.score(inputs, gens)"
   ]
  },
  {
   "cell_type": "code",
   "execution_count": 110,
   "metadata": {},
   "outputs": [],
   "source": [
    "\n",
    "R= W\n",
    "np.shape(W)\n",
    "R = np.abs(W)"
   ]
  },
  {
   "cell_type": "code",
   "execution_count": 111,
   "metadata": {},
   "outputs": [
    {
     "data": {
      "text/plain": [
       "array([2.00000000e+00, 2.01027357e-11, 1.00000000e+00, 1.00000000e+00])"
      ]
     },
     "execution_count": 111,
     "metadata": {},
     "output_type": "execute_result"
    }
   ],
   "source": [
    "np.sum(W, axis=0) #axis= 0 scorre su righe, axis=1 scorre su colonne"
   ]
  },
  {
   "cell_type": "markdown",
   "metadata": {},
   "source": [
    "generative $K=3$, latent $D=4$ "
   ]
  },
  {
   "cell_type": "code",
   "execution_count": 112,
   "metadata": {},
   "outputs": [
    {
     "data": {
      "text/plain": [
       "array([2., 2., 1., 1.])"
      ]
     },
     "execution_count": 112,
     "metadata": {},
     "output_type": "execute_result"
    }
   ],
   "source": [
    "R_g =  np.sum(R, axis=0)\n",
    "R_g"
   ]
  },
  {
   "cell_type": "code",
   "execution_count": 113,
   "metadata": {},
   "outputs": [],
   "source": [
    "P = np.zeros(shape=np.shape(W))"
   ]
  },
  {
   "cell_type": "code",
   "execution_count": 114,
   "metadata": {},
   "outputs": [],
   "source": [
    "for i in range(len(P)):\n",
    "    for j in range(  len(P[0] )):\n",
    "        ########################\n",
    "        P[i,j] = R[i,j]/R_g[j]"
   ]
  },
  {
   "cell_type": "code",
   "execution_count": 115,
   "metadata": {},
   "outputs": [],
   "source": [
    "H_D = np.zeros(shape=(3,))\n",
    "for j in range(3):\n",
    "    H_D[j] = -np.sum(P[:,j]*np.log(P[:,j] +10**-4 ) )"
   ]
  },
  {
   "cell_type": "code",
   "execution_count": 116,
   "metadata": {},
   "outputs": [
    {
     "data": {
      "text/plain": [
       "array([ 4.99855745e-01,  4.99855745e-01, -7.21309169e-05])"
      ]
     },
     "execution_count": 116,
     "metadata": {},
     "output_type": "execute_result"
    }
   ],
   "source": [
    "H_D /= np.log(4)\n",
    "H_D"
   ]
  },
  {
   "cell_type": "code",
   "execution_count": 117,
   "metadata": {},
   "outputs": [
    {
     "data": {
      "text/plain": [
       "array([0.50014426, 0.50014426, 1.00007213])"
      ]
     },
     "execution_count": 117,
     "metadata": {},
     "output_type": "execute_result"
    }
   ],
   "source": [
    "1- H_D"
   ]
  },
  {
   "cell_type": "code",
   "execution_count": 118,
   "metadata": {},
   "outputs": [
    {
     "data": {
      "text/plain": [
       "array([5.00000000e-01, 5.00000000e-01, 9.99863226e-12])"
      ]
     },
     "execution_count": 118,
     "metadata": {},
     "output_type": "execute_result"
    }
   ],
   "source": [
    "P[:,1]"
   ]
  },
  {
   "cell_type": "code",
   "execution_count": 119,
   "metadata": {},
   "outputs": [],
   "source": [
    "rho = np.zeros(3)\n",
    "\n",
    "R_tot = np.sum(R)    \n",
    "rho = np.sum(R, axis=0)/R_tot"
   ]
  },
  {
   "cell_type": "code",
   "execution_count": 120,
   "metadata": {},
   "outputs": [
    {
     "data": {
      "text/plain": [
       "6.000000000089064"
      ]
     },
     "execution_count": 120,
     "metadata": {},
     "output_type": "execute_result"
    }
   ],
   "source": [
    "R_tot"
   ]
  },
  {
   "cell_type": "code",
   "execution_count": 121,
   "metadata": {},
   "outputs": [
    {
     "data": {
      "text/plain": [
       "array([0.33333333, 0.33333333, 0.16666667, 0.16666667])"
      ]
     },
     "execution_count": 121,
     "metadata": {},
     "output_type": "execute_result"
    }
   ],
   "source": [
    "rho"
   ]
  },
  {
   "cell_type": "code",
   "execution_count": 122,
   "metadata": {},
   "outputs": [
    {
     "ename": "ValueError",
     "evalue": "shapes (3,) and (4,) not aligned: 3 (dim 0) != 4 (dim 0)",
     "output_type": "error",
     "traceback": [
      "\u001b[0;31m---------------------------------------------------------------------------\u001b[0m",
      "\u001b[0;31mValueError\u001b[0m                                Traceback (most recent call last)",
      "\u001b[0;32m<ipython-input-122-9675050352c0>\u001b[0m in \u001b[0;36m<module>\u001b[0;34m\u001b[0m\n\u001b[0;32m----> 1\u001b[0;31m \u001b[0mD\u001b[0m \u001b[0;34m=\u001b[0m \u001b[0mnp\u001b[0m\u001b[0;34m.\u001b[0m\u001b[0mdot\u001b[0m\u001b[0;34m(\u001b[0m\u001b[0;36m1\u001b[0m\u001b[0;34m-\u001b[0m\u001b[0mH_D\u001b[0m\u001b[0;34m,\u001b[0m \u001b[0mrho\u001b[0m\u001b[0;34m)\u001b[0m\u001b[0;34m\u001b[0m\u001b[0;34m\u001b[0m\u001b[0m\n\u001b[0m",
      "\u001b[0;32m<__array_function__ internals>\u001b[0m in \u001b[0;36mdot\u001b[0;34m(*args, **kwargs)\u001b[0m\n",
      "\u001b[0;31mValueError\u001b[0m: shapes (3,) and (4,) not aligned: 3 (dim 0) != 4 (dim 0)"
     ]
    }
   ],
   "source": [
    "D = np.dot(1-H_D, rho)"
   ]
  },
  {
   "cell_type": "code",
   "execution_count": 104,
   "metadata": {},
   "outputs": [
    {
     "data": {
      "text/plain": [
       "0.5490323248907051"
      ]
     },
     "execution_count": 104,
     "metadata": {},
     "output_type": "execute_result"
    }
   ],
   "source": [
    "D"
   ]
  },
  {
   "cell_type": "code",
   "execution_count": 176,
   "metadata": {},
   "outputs": [],
   "source": [
    "def Interpretability(z, g, rel_factors=10 ** 4):\n",
    "    '''\n",
    "    Compute the interpretability score of the latent factors given the generative ones.\n",
    "    It can be done on a restricted number of entries.\n",
    "    '''\n",
    "\n",
    "    D = len(z[0])\n",
    "    K = len(g[0])\n",
    "\n",
    "    model = HuberRegressor()\n",
    "    coeff = np.zeros(shape=(D,K))\n",
    "    total_acc = 0\n",
    "    for i in range(K):\n",
    "        model.fit(z, g[:, i])\n",
    "        coeff[:,i] = model.coef_\n",
    "        total_acc += model.score(z,g[:,i])\n",
    "    \n",
    "    print('# Interpret score # Total accuracy of Regressor model:', total_acc/K)\n",
    "    # print('Regression score:',model.score(z,g)*100,'%')\n",
    "\n",
    "    R = np.abs(coeff)\n",
    "\n",
    "    R_g = np.sum(R, axis=0)\n",
    "\n",
    "    P = np.zeros(np.shape(R))\n",
    "    for i in range(D):\n",
    "        for j in range(K):\n",
    "            P[i, j] = R[i, j] / (R_g[j] + 10 ** -6)\n",
    "\n",
    "    H_D = np.zeros(K)\n",
    "    for j in range(K):\n",
    "        P[:, j] += 10 ** -6\n",
    "        for i in range(D):\n",
    "            if P[i, j] > 1: P[i, j] = 1\n",
    "        H_D[j] = - np.sum(P[:, j] * np.log(P[:, j]))\n",
    "\n",
    "    I = 1 - H_D / np.log(D)\n",
    "\n",
    "    rho = np.sum(R, axis=0) / np.sum(R + 10 ** -6)\n",
    "\n",
    "    I_tot = np.sum(rho * I)\n",
    "\n",
    "    return I, I_tot, model"
   ]
  },
  {
   "cell_type": "code",
   "execution_count": 181,
   "metadata": {},
   "outputs": [],
   "source": [
    "g = np.random.uniform(0,2, size=(1000,2) )\n",
    "W = np.array( [[1, 1,0,1], [0,1,0,0]]   )\n",
    "z = np.matmul(g,W)"
   ]
  },
  {
   "cell_type": "code",
   "execution_count": 182,
   "metadata": {},
   "outputs": [
    {
     "name": "stdout",
     "output_type": "stream",
     "text": [
      "# Interpret score # Total accuracy of Regressor model: 1.0\n"
     ]
    }
   ],
   "source": [
    "I, I_tot, my_model = Interpretability(z,g)"
   ]
  },
  {
   "cell_type": "code",
   "execution_count": 183,
   "metadata": {},
   "outputs": [
    {
     "data": {
      "text/plain": [
       "array([0.49998029, 0.24998971])"
      ]
     },
     "execution_count": 183,
     "metadata": {},
     "output_type": "execute_result"
    }
   ],
   "source": [
    "I"
   ]
  },
  {
   "cell_type": "code",
   "execution_count": 184,
   "metadata": {},
   "outputs": [
    {
     "data": {
      "text/plain": [
       "0.33331901613779646"
      ]
     },
     "execution_count": 184,
     "metadata": {},
     "output_type": "execute_result"
    }
   ],
   "source": [
    "I_tot"
   ]
  },
  {
   "cell_type": "code",
   "execution_count": null,
   "metadata": {},
   "outputs": [],
   "source": []
  },
  {
   "cell_type": "code",
   "execution_count": null,
   "metadata": {},
   "outputs": [],
   "source": []
  },
  {
   "cell_type": "code",
   "execution_count": 198,
   "metadata": {},
   "outputs": [],
   "source": []
  },
  {
   "cell_type": "code",
   "execution_count": 211,
   "metadata": {},
   "outputs": [
    {
     "data": {
      "image/png": "[encoded data removed]",
      "text/plain": [
       "<Figure size 1080x720 with 5 Axes>"
      ]
     },
     "metadata": {
      "needs_background": "light"
     },
     "output_type": "display_data"
    }
   ],
   "source": [
    "import matplotlib.pyplot as plt\n",
    "\n",
    "\n",
    "mean_lagr_radii = np.zeros(shape=(20,5))\n",
    "\n",
    "#### REMOVE ####\n",
    "lagrangian_radii= np.random.normal(0,1, size=(1000,5))\n",
    "time_myr_mean=np.linspace(0,1,20)\n",
    "mass_fraction = [1,2,3,4,5,6]\n",
    "fig = plt.figure(figsize=(15,10))\n",
    "colors = ['red', 'blue', 'green', 'gold', 'black']\n",
    "########\n",
    "\n",
    "for i in range(5):\n",
    "    lagrangian_radii_intervals = np.array_split(lagrangian_radii[:,i],20)\n",
    "    \n",
    "    mean_lagr_radii[:,i] = np.mean( lagrangian_radii_intervals, axis=1)\n",
    "    \n",
    "for i in range(5):\n",
    "    fig.add_subplot(2,3,i+1)\n",
    "    plt.plot(time_myr_mean, mean_lagr_radii[:,i], color=colors[i], linewidth=2, alpha=1)\n",
    "    plt.xlabel(\"Time [Myr]\", fontsize=10)\n",
    "    plt.ylabel(\"$R_{lagr}$ [pc]\", fontsize=10)\n",
    "    plt.xticks(fontsize=10)\n",
    "    plt.yticks(fontsize=10)\n",
    "    plt.title(\"Mass fraction %.1f\"%mass_fraction[i], fontsize=18)\n",
    "    plt.savefig('{}/plots/Averaged_lagrangian_radii.png'.format(path))"
   ]
  },
  {
   "cell_type": "code",
   "execution_count": 192,
   "metadata": {},
   "outputs": [],
   "source": [
    "a = np.array_split(lagrangian_radii, 20)"
   ]
  },
  {
   "cell_type": "code",
   "execution_count": 196,
   "metadata": {},
   "outputs": [],
   "source": [
    "m = np.mean(a, axis=1)"
   ]
  },
  {
   "cell_type": "code",
   "execution_count": 197,
   "metadata": {},
   "outputs": [
    {
     "data": {
      "text/plain": [
       "(20,)"
      ]
     },
     "execution_count": 197,
     "metadata": {},
     "output_type": "execute_result"
    }
   ],
   "source": [
    "np.shape(m)"
   ]
  },
  {
   "cell_type": "code",
   "execution_count": null,
   "metadata": {},
   "outputs": [],
   "source": []
  }
 ],
 "metadata": {
  "kernelspec": {
   "display_name": "Python 3",
   "language": "python",
   "name": "python3"
  },
  "language_info": {
   "codemirror_mode": {
    "name": "ipython",
    "version": 3
   },
   "file_extension": ".py",
   "mimetype": "text/x-python",
   "name": "python",
   "nbconvert_exporter": "python",
   "pygments_lexer": "ipython3",
   "version": "3.7.6"
  }
 },
 "nbformat": 4,
 "nbformat_minor": 4
}
